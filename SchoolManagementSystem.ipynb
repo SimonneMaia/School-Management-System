{
  "nbformat": 4,
  "nbformat_minor": 0,
  "metadata": {
    "colab": {
      "provenance": []
    },
    "kernelspec": {
      "name": "python3",
      "display_name": "Python 3"
    },
    "language_info": {
      "name": "python"
    }
  },
  "cells": [
    {
      "cell_type": "markdown",
      "source": [
        "##Reading data"
      ],
      "metadata": {
        "id": "CzM7ndItXdvl"
      }
    },
    {
      "cell_type": "code",
      "source": [
        "import csv\n",
        "\n",
        "filename = \"Studetns_project - Sheet1.csv\"\n",
        "\n",
        "fields = []\n",
        "rows = []\n",
        "\n",
        "with open(filename, 'r') as csvfile:\n",
        "  csvreader = csv.reader(csvfile)\n",
        "  fields = next(csvreader)\n",
        "  for row in csvreader:\n",
        "    rows.append(row)\n",
        "\n",
        "print(\"Total no. of rows: \",csvreader.line_num)\n",
        "print(fields)\n",
        "print(rows)"
      ],
      "metadata": {
        "colab": {
          "base_uri": "https://localhost:8080/"
        },
        "id": "tkw_ZYuNXuCL",
        "outputId": "8a353e2f-809a-495f-b351-701788103148"
      },
      "execution_count": null,
      "outputs": [
        {
          "output_type": "stream",
          "name": "stdout",
          "text": [
            "Total no. of rows:  5\n",
            "['Name', 'Last name ', 'Email', 'Math', 'Physics', 'IT', 'English']\n",
            "[['Sim', 'Foo', 's.foo@school.edu', '100', '80', '95', '92'], ['Ahmad', 'Hamdan', 'a.hamdan@school.edu', '80', '75', '87', '50'], ['James', 'Willson', 'j.willson@school.edu', '72', '84', '93', '67'], ['Mark', 'Cuban', 'm.cuban@school.edu', '63', '81', '99', '73']]\n"
          ]
        }
      ]
    },
    {
      "cell_type": "markdown",
      "source": [
        "##Calc the Avg for each subj"
      ],
      "metadata": {
        "id": "9t3K7KI-WpsD"
      }
    },
    {
      "cell_type": "code",
      "source": [
        "def course_index(course,fields):\n",
        "  for i in range(len(fields)):\n",
        "    if course.lower() == fields[i].lower():\n",
        "      return i\n",
        "  return None\n",
        "\n",
        "def avg(row,course):\n",
        "  i = course_index(course,fields)\n",
        "  if i == None:\n",
        "    return 'Course not found'\n",
        "  sum = 0\n",
        "  for line in rows:\n",
        "    if line[i].isnumeric():\n",
        "      sum += float(line[i])\n",
        "  avg = sum/len(rows)\n",
        "  return avg\n",
        "\n",
        "print(avg(rows,'Chem'))"
      ],
      "metadata": {
        "colab": {
          "base_uri": "https://localhost:8080/"
        },
        "id": "8L23imfsWtYV",
        "outputId": "62fe9ff3-85e0-4df2-f6f6-c1e52de57484"
      },
      "execution_count": null,
      "outputs": [
        {
          "output_type": "stream",
          "name": "stdout",
          "text": [
            "Course not found\n"
          ]
        }
      ]
    },
    {
      "cell_type": "markdown",
      "source": [
        "##No. of students who failed given course\n",
        "any grade below 60 is a fail"
      ],
      "metadata": {
        "id": "1Bn8rssafr1C"
      }
    },
    {
      "cell_type": "code",
      "source": [
        "def num_failed_stud(row,course):\n",
        "  i = course_index(course,fields)\n",
        "  if i == None:\n",
        "    return 'Course not found'\n",
        "  failed = 0\n",
        "  for line in rows:\n",
        "    if line[i].isnumeric:\n",
        "      if float(line[i]) < 60:\n",
        "        failed += 1\n",
        "  return failed\n",
        "\n",
        "print(num_failed_stud(rows,'English'))\n"
      ],
      "metadata": {
        "colab": {
          "base_uri": "https://localhost:8080/"
        },
        "id": "heirmXv4fx4T",
        "outputId": "6960f5fb-53e9-4cbf-fbf2-f1b8ea8f5ab2"
      },
      "execution_count": null,
      "outputs": [
        {
          "output_type": "stream",
          "name": "stdout",
          "text": [
            "1\n"
          ]
        }
      ]
    },
    {
      "cell_type": "markdown",
      "source": [
        "##List of students that failed given course"
      ],
      "metadata": {
        "id": "gkhCwXbkhbxO"
      }
    },
    {
      "cell_type": "code",
      "source": [
        "def list_failed_stud(row,course):\n",
        "  i = course_index(course,fields)\n",
        "  if i == None:\n",
        "    return 'Course not found'\n",
        "  failed_names = []\n",
        "  for line in rows:\n",
        "    if line[i].isnumeric:\n",
        "      if float(line[i]) < 60:\n",
        "        failed_names.append(line[0] + ' ' + line[1])\n",
        "  return failed_names\n",
        "\n",
        "print(list_failed_stud(row,'English'))"
      ],
      "metadata": {
        "colab": {
          "base_uri": "https://localhost:8080/"
        },
        "id": "2OUVy4tMhgAD",
        "outputId": "90e919cb-bfce-4643-8002-3f32f162e567"
      },
      "execution_count": null,
      "outputs": [
        {
          "output_type": "stream",
          "name": "stdout",
          "text": [
            "['Ahmad Hamdan']\n"
          ]
        }
      ]
    },
    {
      "cell_type": "markdown",
      "source": [
        "##Transforms a numeric grade to a letter grade"
      ],
      "metadata": {
        "id": "RJRIpz4IlqTo"
      }
    },
    {
      "cell_type": "code",
      "source": [
        "def transntol(num):\n",
        "      l = float(num)\n",
        "      if l< 60:\n",
        "        grade = 'F'\n",
        "      if l>= 60 and l<70:\n",
        "        grade = 'D'\n",
        "      elif l>=70 and l<80:\n",
        "        grade = 'C'\n",
        "      elif l>=80 and l<90:\n",
        "        grade = 'B'\n",
        "      else:\n",
        "        grade = 'A'\n",
        "      return grade\n",
        "\n",
        "print(transntol(75))"
      ],
      "metadata": {
        "colab": {
          "base_uri": "https://localhost:8080/"
        },
        "id": "qCA620uwXJIR",
        "outputId": "5dfb401f-c42d-41a7-fcf4-748e64a05c7b"
      },
      "execution_count": null,
      "outputs": [
        {
          "output_type": "stream",
          "name": "stdout",
          "text": [
            "C\n"
          ]
        }
      ]
    },
    {
      "cell_type": "code",
      "source": [
        "def transform_all(rows,course):\n",
        "  i = course_index(course,fields)\n",
        "  if i == None:\n",
        "    return 'Course not found'\n",
        "  grades = []\n",
        "  for line in rows:\n",
        "    if line[i].isnumeric:\n",
        "      l = line[i]\n",
        "      grade = transntol(l)\n",
        "      grades.append(grade)\n",
        "  return grades\n",
        "\n",
        "print(transform_all(rows,'physics'))\n"
      ],
      "metadata": {
        "colab": {
          "base_uri": "https://localhost:8080/"
        },
        "id": "szK3V6eiiTkP",
        "outputId": "69d6702f-6361-45e9-9b44-9b3ff77edf93"
      },
      "execution_count": null,
      "outputs": [
        {
          "output_type": "stream",
          "name": "stdout",
          "text": [
            "['B', 'C', 'B', 'B']\n"
          ]
        }
      ]
    },
    {
      "cell_type": "markdown",
      "source": [
        "##Counts number of A,B,C,D,Fs in given course"
      ],
      "metadata": {
        "id": "nWvnMzi2vcrx"
      }
    },
    {
      "cell_type": "code",
      "source": [
        "def gradescounter(course):\n",
        "  A = 0\n",
        "  B = 0\n",
        "  C = 0\n",
        "  D = 0\n",
        "  F = 0\n",
        "  grades = transform_all(rows,course)\n",
        "  for g in grades:\n",
        "    if g == 'A':\n",
        "      A += 1\n",
        "    elif g == 'B':\n",
        "      B += 1\n",
        "    elif g == 'C':\n",
        "      C += 1\n",
        "    elif g == 'D':\n",
        "      D += 1\n",
        "    elif g == 'F':\n",
        "      F += 1\n",
        "  return [A, B, C, D, F]\n",
        "\n",
        "print(gradescounter('Math'))\n"
      ],
      "metadata": {
        "colab": {
          "base_uri": "https://localhost:8080/"
        },
        "id": "AtMJDbbsk1RI",
        "outputId": "de8b8d68-b278-4dc1-e856-c08a12b1db3e"
      },
      "execution_count": null,
      "outputs": [
        {
          "output_type": "stream",
          "name": "stdout",
          "text": [
            "[1, 1, 1, 1, 0]\n"
          ]
        }
      ]
    },
    {
      "cell_type": "markdown",
      "source": [
        "##Calculates percentage of each letter grade of given course"
      ],
      "metadata": {
        "id": "mj818DzgvtCv"
      }
    },
    {
      "cell_type": "code",
      "source": [
        "def letter_percentage(rows,course):\n",
        "  allgrades = gradescounter(course)\n",
        "  pA = (allgrades[0]/len(rows))*100\n",
        "  pB = (allgrades[1]/len(rows))*100\n",
        "  pC = (allgrades[2]/len(rows))*100\n",
        "  pD = (allgrades[3]/len(rows))*100\n",
        "  pF = (allgrades[4]/len(rows))*100\n",
        "\n",
        "  return [pA, pB, pC, pD, pF]\n",
        "\n",
        "print(letter_percentage(rows,'Math'))\n",
        "\n"
      ],
      "metadata": {
        "id": "3tqA3kqZmtcB",
        "colab": {
          "base_uri": "https://localhost:8080/"
        },
        "outputId": "c54b32f6-5f87-4074-dcfe-71dc3efcfb59"
      },
      "execution_count": null,
      "outputs": [
        {
          "output_type": "stream",
          "name": "stdout",
          "text": [
            "(25.0, 25.0, 25.0, 25.0, 0.0)\n"
          ]
        }
      ]
    },
    {
      "cell_type": "markdown",
      "source": [
        "###presented in text"
      ],
      "metadata": {
        "id": "ytBtcSJud-F4"
      }
    },
    {
      "cell_type": "code",
      "source": [
        "def present_letter_percentage(rows, course):\n",
        "  l = letter_percentage(rows, course)\n",
        "  a = \"Percentage of A grades: \" + str(l[0]) + \"%\\n\"\n",
        "  b = \"Percentage of B grades: \" + str(l[1]) + \"%\\n\"\n",
        "  c = \"Percentage of C grades: \" + str(l[2]) + \"%\\n\"\n",
        "  d = \"Percentage of D grades: \" + str(l[3]) + \"%\\n\"\n",
        "  f = \"Percentage of F grades: \" + str(l[4]) + \"%\\n\"\n",
        "  s = a + b + c + d + f\n",
        "  return s\n",
        "\n",
        "print(str(present_letter_percentage(rows,\"MATH\")))"
      ],
      "metadata": {
        "colab": {
          "base_uri": "https://localhost:8080/"
        },
        "id": "GAsXttUBeMME",
        "outputId": "80e177ff-ae0e-4261-a669-efdf35b91676"
      },
      "execution_count": null,
      "outputs": [
        {
          "output_type": "stream",
          "name": "stdout",
          "text": [
            "Percentage of A grades: 25.0%\n",
            "Percentage of B grades: 25.0%\n",
            "Percentage of C grades: 25.0%\n",
            "Percentage of D grades: 25.0%\n",
            "Percentage of F grades: 0.0%\n",
            "\n"
          ]
        }
      ]
    },
    {
      "cell_type": "markdown",
      "source": [
        "##Search for student's row"
      ],
      "metadata": {
        "id": "VuS70ViUk2iF"
      }
    },
    {
      "cell_type": "code",
      "source": [
        "def search_stud(firstname,lastname, rows):\n",
        "  for row in rows:\n",
        "    r_lower = [i.lower() for i in row if row]\n",
        "    if firstname.lower() in r_lower and lastname.lower() in r_lower:\n",
        "      return row\n",
        "  return None\n",
        "\n",
        "print((search_stud(\"Sim\", \"foo\",rows)))\n"
      ],
      "metadata": {
        "colab": {
          "base_uri": "https://localhost:8080/"
        },
        "id": "nZ4U8bJ8k0ZF",
        "outputId": "f8516779-dc56-4bbb-a925-8d066901034b"
      },
      "execution_count": null,
      "outputs": [
        {
          "output_type": "stream",
          "name": "stdout",
          "text": [
            "['Sim', 'Foo', 's.foo@school.edu', '100', '80', '95', '92']\n"
          ]
        }
      ]
    },
    {
      "cell_type": "markdown",
      "source": [
        "##Average grade for each student"
      ],
      "metadata": {
        "id": "TXdlf1W-hp1y"
      }
    },
    {
      "cell_type": "code",
      "source": [
        "courses = [\"Math\",\"Physics\",\"IT\",\"English\"]\n",
        "def avg_grade_stud(firstname,lastname, rows, courses):\n",
        "  overall = 0\n",
        "  row = search_stud(firstname,lastname,rows)\n",
        "  if row == None:\n",
        "    return f\"{firstname} {lastname} does not exist\"\n",
        "  else:\n",
        "    for i in row:\n",
        "      if i.isnumeric():\n",
        "        overall += float(i)\n",
        "    avg = str(overall/len(courses)) + \"%\"\n",
        "    return f\"Average for {firstname} {lastname}: {avg}\"\n",
        "\n",
        "\n",
        "print(avg_grade_stud(\"Sim\",\"Foo\",rows,courses))"
      ],
      "metadata": {
        "colab": {
          "base_uri": "https://localhost:8080/"
        },
        "id": "BI9uD2XEhdmL",
        "outputId": "fc781329-da4b-41cd-e5f9-f0d0a4c07ab1"
      },
      "execution_count": null,
      "outputs": [
        {
          "output_type": "stream",
          "name": "stdout",
          "text": [
            "Average for Sim Foo: 91.75%\n"
          ]
        }
      ]
    },
    {
      "cell_type": "markdown",
      "source": [
        "##Calculating the lower, middle, and upper quartiles for given course"
      ],
      "metadata": {
        "id": "Yqrm809ZwCok"
      }
    },
    {
      "cell_type": "code",
      "source": [],
      "metadata": {
        "id": "ZelytCsHAUim"
      },
      "execution_count": null,
      "outputs": []
    },
    {
      "cell_type": "markdown",
      "source": [
        "##Calculating Range and Interquartile ranges for given course"
      ],
      "metadata": {
        "id": "DSXscV7dAMJi"
      }
    },
    {
      "cell_type": "code",
      "source": [],
      "metadata": {
        "id": "f_sLBQD-AVCN"
      },
      "execution_count": null,
      "outputs": []
    }
  ]
}